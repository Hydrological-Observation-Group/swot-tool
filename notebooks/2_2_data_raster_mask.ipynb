{
 "cells": [
  {
   "cell_type": "markdown",
   "id": "1170e6f0",
   "metadata": {},
   "source": [
    "#### Read swot l2 pixel cloud data and write out to masked file.\n"
   ]
  },
  {
   "cell_type": "code",
   "execution_count": 1,
   "id": "30778411",
   "metadata": {},
   "outputs": [],
   "source": [
    "import os\n",
    "import xarray as xr\n",
    "from glob import glob\n",
    "import geopandas as gpd\n",
    "from utils.swot_data_mask import swot_raster_mask\n",
    "from utils.functions import swot_raster_reproj"
   ]
  },
  {
   "cell_type": "code",
   "execution_count": 2,
   "id": "2b3af700",
   "metadata": {},
   "outputs": [],
   "source": [
    "dir_raster = 'data/dianchi_lake/raster'\n",
    "path_lake_vec = 'data/dianchi_lake/dianchi_vector.gpkg'\n"
   ]
  },
  {
   "cell_type": "code",
   "execution_count": 3,
   "id": "b3a29ce6",
   "metadata": {},
   "outputs": [
    {
     "data": {
      "text/html": [
       "<div>\n",
       "<style scoped>\n",
       "    .dataframe tbody tr th:only-of-type {\n",
       "        vertical-align: middle;\n",
       "    }\n",
       "\n",
       "    .dataframe tbody tr th {\n",
       "        vertical-align: top;\n",
       "    }\n",
       "\n",
       "    .dataframe thead th {\n",
       "        text-align: right;\n",
       "    }\n",
       "</style>\n",
       "<table border=\"1\" class=\"dataframe\">\n",
       "  <thead>\n",
       "    <tr style=\"text-align: right;\">\n",
       "      <th></th>\n",
       "      <th>Name</th>\n",
       "      <th>geometry</th>\n",
       "    </tr>\n",
       "  </thead>\n",
       "  <tbody>\n",
       "    <tr>\n",
       "      <th>0</th>\n",
       "      <td>dianchi</td>\n",
       "      <td>POLYGON Z ((102.66614 24.83805 0.00000, 102.65...</td>\n",
       "    </tr>\n",
       "  </tbody>\n",
       "</table>\n",
       "</div>"
      ],
      "text/plain": [
       "      Name                                           geometry\n",
       "0  dianchi  POLYGON Z ((102.66614 24.83805 0.00000, 102.65..."
      ]
     },
     "execution_count": 3,
     "metadata": {},
     "output_type": "execute_result"
    }
   ],
   "source": [
    "## read vector file of the lake.\n",
    "lake_gpd = gpd.read_file(path_lake_vec)\n",
    "lake_gpd\n"
   ]
  },
  {
   "cell_type": "code",
   "execution_count": 4,
   "id": "8005ab4f",
   "metadata": {},
   "outputs": [
    {
     "name": "stdout",
     "output_type": "stream",
     "text": [
      "9\n"
     ]
    }
   ],
   "source": [
    "## Check original .nc raster file.\n",
    "paths_file = [os.path.join(dir_raster, file) for file in os.listdir(dir_raster) if 'Raster_' in file and 'masked' not in file]\n",
    "paths_file = sorted(paths_file)\n",
    "print(len(paths_file))\n"
   ]
  },
  {
   "cell_type": "markdown",
   "id": "d011f57b",
   "metadata": {},
   "source": [
    "#### batch data read and write out"
   ]
  },
  {
   "cell_type": "code",
   "execution_count": 23,
   "id": "536b3b99",
   "metadata": {},
   "outputs": [
    {
     "name": "stdout",
     "output_type": "stream",
     "text": [
      "input file: 0 data/dianchi_lake/raster/SWOT_L2_HR_Raster_100m_UTM48R_N_x_x_x_009_049_099F_20240105T211638_20240105T211659_PGC0_01.nc\n",
      "file read and written to data/dianchi_lake/raster/SWOT_L2_HR_Raster_100m_UTM48R_N_x_x_x_009_049_099F_20240105T211638_20240105T211659_PGC0_01_masked.nc\n",
      "input file: 1 data/dianchi_lake/raster/SWOT_L2_HR_Raster_100m_UTM48R_N_x_x_x_010_049_099F_20240126T180144_20240126T180205_PIC0_01.nc\n",
      "file read and written to data/dianchi_lake/raster/SWOT_L2_HR_Raster_100m_UTM48R_N_x_x_x_010_049_099F_20240126T180144_20240126T180205_PIC0_01_masked.nc\n",
      "input file: 2 data/dianchi_lake/raster/SWOT_L2_HR_Raster_100m_UTM48R_N_x_x_x_011_049_099F_20240216T144649_20240216T144710_PIC0_01.nc\n",
      "file read and written to data/dianchi_lake/raster/SWOT_L2_HR_Raster_100m_UTM48R_N_x_x_x_011_049_099F_20240216T144649_20240216T144710_PIC0_01_masked.nc\n",
      "input file: 3 data/dianchi_lake/raster/SWOT_L2_HR_Raster_100m_UTM48R_N_x_x_x_012_049_099F_20240308T113153_20240308T113214_PIC0_01.nc\n",
      "file read and written to data/dianchi_lake/raster/SWOT_L2_HR_Raster_100m_UTM48R_N_x_x_x_012_049_099F_20240308T113153_20240308T113214_PIC0_01_masked.nc\n",
      "input file: 4 data/dianchi_lake/raster/SWOT_L2_HR_Raster_100m_UTM48R_N_x_x_x_013_049_099F_20240329T081657_20240329T081718_PIC0_01.nc\n",
      "file read and written to data/dianchi_lake/raster/SWOT_L2_HR_Raster_100m_UTM48R_N_x_x_x_013_049_099F_20240329T081657_20240329T081718_PIC0_01_masked.nc\n",
      "input file: 5 data/dianchi_lake/raster/SWOT_L2_HR_Raster_100m_UTM48R_N_x_x_x_014_049_099F_20240419T050203_20240419T050224_PIC0_01.nc\n",
      "file read and written to data/dianchi_lake/raster/SWOT_L2_HR_Raster_100m_UTM48R_N_x_x_x_014_049_099F_20240419T050203_20240419T050224_PIC0_01_masked.nc\n",
      "input file: 6 data/dianchi_lake/raster/SWOT_L2_HR_Raster_100m_UTM48R_N_x_x_x_015_049_099F_20240510T014706_20240510T014727_PIC0_01.nc\n",
      "file read and written to data/dianchi_lake/raster/SWOT_L2_HR_Raster_100m_UTM48R_N_x_x_x_015_049_099F_20240510T014706_20240510T014727_PIC0_01_masked.nc\n",
      "input file: 7 data/dianchi_lake/raster/SWOT_L2_HR_Raster_100m_UTM48R_N_x_x_x_016_049_099F_20240530T223211_20240530T223232_PIC0_01.nc\n",
      "file read and written to data/dianchi_lake/raster/SWOT_L2_HR_Raster_100m_UTM48R_N_x_x_x_016_049_099F_20240530T223211_20240530T223232_PIC0_01_masked.nc\n",
      "input file: 8 data/dianchi_lake/raster/SWOT_L2_HR_Raster_100m_UTM48R_N_x_x_x_017_049_099F_20240620T191716_20240620T191737_PIC0_01.nc\n",
      "file read and written to data/dianchi_lake/raster/SWOT_L2_HR_Raster_100m_UTM48R_N_x_x_x_017_049_099F_20240620T191716_20240620T191737_PIC0_01_masked.nc\n"
     ]
    }
   ],
   "source": [
    "for i, path in enumerate(paths_file):\n",
    "    print(f'input file: {i} {path}')\n",
    "    # Define the output path\n",
    "    path_masked = path.split('.')[0]+'_masked.nc'\n",
    "    raster_nc = xr.open_dataset(path, decode_times=False)\n",
    "    raster_epsg = '326' + str(raster_nc.attrs['utm_zone_num'])\n",
    "    raster_wgs84_nc = swot_raster_reproj(raster_nc, epsg_from=raster_epsg, epsg_to='4326')\n",
    "    raster_vars = swot_raster_mask(raster_nc=raster_wgs84_nc, \n",
    "                                region_gpd=lake_gpd, path_masked=path_masked)\n"
   ]
  }
 ],
 "metadata": {
  "kernelspec": {
   "display_name": "swot",
   "language": "python",
   "name": "python3"
  },
  "language_info": {
   "codemirror_mode": {
    "name": "ipython",
    "version": 3
   },
   "file_extension": ".py",
   "mimetype": "text/x-python",
   "name": "python",
   "nbconvert_exporter": "python",
   "pygments_lexer": "ipython3",
   "version": "3.9.19"
  }
 },
 "nbformat": 4,
 "nbformat_minor": 5
}
