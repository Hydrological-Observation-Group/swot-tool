{
 "cells": [
  {
   "cell_type": "markdown",
   "id": "1170e6f0",
   "metadata": {},
   "source": [
    "#### Read swot l2 pixel cloud data and write out to masked file.\n"
   ]
  },
  {
   "cell_type": "code",
   "execution_count": 6,
   "id": "30778411",
   "metadata": {},
   "outputs": [],
   "source": [
    "import os\n",
    "import xarray as xr\n",
    "from glob import glob\n",
    "import geopandas as gpd\n",
    "from utils.swot_data_mask import swot_pixc_mask\n"
   ]
  },
  {
   "cell_type": "code",
   "execution_count": 7,
   "id": "2b3af700",
   "metadata": {},
   "outputs": [],
   "source": [
    "dir_pixc = 'data/dianchi_lake/pixc'\n",
    "path_lake_vec = 'data/dianchi_lake/dianchi_vector.gpkg'\n"
   ]
  },
  {
   "cell_type": "code",
   "execution_count": 8,
   "id": "b3a29ce6",
   "metadata": {},
   "outputs": [
    {
     "data": {
      "text/html": [
       "<div>\n",
       "<style scoped>\n",
       "    .dataframe tbody tr th:only-of-type {\n",
       "        vertical-align: middle;\n",
       "    }\n",
       "\n",
       "    .dataframe tbody tr th {\n",
       "        vertical-align: top;\n",
       "    }\n",
       "\n",
       "    .dataframe thead th {\n",
       "        text-align: right;\n",
       "    }\n",
       "</style>\n",
       "<table border=\"1\" class=\"dataframe\">\n",
       "  <thead>\n",
       "    <tr style=\"text-align: right;\">\n",
       "      <th></th>\n",
       "      <th>Name</th>\n",
       "      <th>geometry</th>\n",
       "    </tr>\n",
       "  </thead>\n",
       "  <tbody>\n",
       "    <tr>\n",
       "      <th>0</th>\n",
       "      <td>dianchi</td>\n",
       "      <td>POLYGON Z ((102.66614 24.83805 0.00000, 102.65...</td>\n",
       "    </tr>\n",
       "  </tbody>\n",
       "</table>\n",
       "</div>"
      ],
      "text/plain": [
       "      Name                                           geometry\n",
       "0  dianchi  POLYGON Z ((102.66614 24.83805 0.00000, 102.65..."
      ]
     },
     "execution_count": 8,
     "metadata": {},
     "output_type": "execute_result"
    }
   ],
   "source": [
    "## read vector file of the lake.\n",
    "lake_gpd = gpd.read_file(path_lake_vec).to_crs(epsg=4326)\n",
    "lake_gpd\n"
   ]
  },
  {
   "cell_type": "code",
   "execution_count": 9,
   "id": "57ef4a2f",
   "metadata": {},
   "outputs": [
    {
     "name": "stdout",
     "output_type": "stream",
     "text": [
      "9\n"
     ]
    }
   ],
   "source": [
    "## Check original .nc raster file.\n",
    "paths_file = [os.path.join(dir_pixc, file) for file in os.listdir(dir_pixc) if 'PIXC_' in file and 'masked' not in file]\n",
    "paths_file = sorted(paths_file)\n",
    "print(len(paths_file))\n"
   ]
  },
  {
   "cell_type": "markdown",
   "id": "d011f57b",
   "metadata": {},
   "source": [
    "#### batch data read and write out"
   ]
  },
  {
   "cell_type": "code",
   "execution_count": null,
   "id": "536b3b99",
   "metadata": {},
   "outputs": [
    {
     "name": "stdout",
     "output_type": "stream",
     "text": [
      "input file: 0 data/dianchi_lake/pixc/SWOT_L2_HR_PIXC_009_049_198L_20240105T211648_20240105T211659_PGC0_01.nc\n",
      "input file: 1 data/dianchi_lake/pixc/SWOT_L2_HR_PIXC_010_049_198L_20240126T180154_20240126T180205_PIC0_01.nc\n",
      "input file: 2 data/dianchi_lake/pixc/SWOT_L2_HR_PIXC_011_049_198L_20240216T144659_20240216T144710_PIC0_01.nc\n",
      "input file: 3 data/dianchi_lake/pixc/SWOT_L2_HR_PIXC_012_049_198L_20240308T113203_20240308T113214_PIC0_01.nc\n",
      "input file: 4 data/dianchi_lake/pixc/SWOT_L2_HR_PIXC_013_049_198L_20240329T081707_20240329T081718_PIC0_01.nc\n",
      "input file: 5 data/dianchi_lake/pixc/SWOT_L2_HR_PIXC_014_049_198L_20240419T050213_20240419T050224_PIC0_01.nc\n",
      "input file: 6 data/dianchi_lake/pixc/SWOT_L2_HR_PIXC_015_049_198L_20240510T014716_20240510T014727_PIC0_01.nc\n",
      "input file: 7 data/dianchi_lake/pixc/SWOT_L2_HR_PIXC_016_049_198L_20240530T223221_20240530T223232_PIC0_01.nc\n",
      "input file: 8 data/dianchi_lake/pixc/SWOT_L2_HR_PIXC_017_049_198L_20240620T191726_20240620T191737_PIC0_01.nc\n"
     ]
    }
   ],
   "source": [
    "for i, path in enumerate(paths_file):\n",
    "  print(f'input file: {i} {path}')\n",
    "  # Define the output path\n",
    "  path_masked = path.split('.')[0]+'_masked.nc'\n",
    "  pixc_nc = xr.open_dataset(path, group='pixel_cloud')\n",
    "  pix_vars = swot_pixc_mask(pixc_nc=pixc_nc, region_gpd=lake_gpd, path_masked=path_masked)\n"
   ]
  }
 ],
 "metadata": {
  "kernelspec": {
   "display_name": "swot",
   "language": "python",
   "name": "python3"
  },
  "language_info": {
   "codemirror_mode": {
    "name": "ipython",
    "version": 3
   },
   "file_extension": ".py",
   "mimetype": "text/x-python",
   "name": "python",
   "nbconvert_exporter": "python",
   "pygments_lexer": "ipython3",
   "version": "3.9.19"
  }
 },
 "nbformat": 4,
 "nbformat_minor": 5
}
