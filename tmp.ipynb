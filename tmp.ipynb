{
 "cells": [
  {
   "cell_type": "code",
   "execution_count": 5,
   "metadata": {},
   "outputs": [],
   "source": [
    "import numpy as np\n",
    "import matplotlib.pyplot as plt \n"
   ]
  },
  {
   "cell_type": "code",
   "execution_count": null,
   "metadata": {},
   "outputs": [],
   "source": [
    "def get_per(scores, thre=80):\n",
    "    n_80 = np.where(np.array(scores)>=thre)[0]\n",
    "    percent = n_80.shape[0]/len(scores)\n",
    "    return percent\n"
   ]
  },
  {
   "cell_type": "code",
   "execution_count": 2,
   "metadata": {},
   "outputs": [],
   "source": [
    "math_1 = [76, 77, 84, 67, 72, 43, 64, 79, 70, 92, 84, 84, 89, 94, 69, 84, 50, 60, 67, 67, 78, 67, 63, 75, 68, 77, 62, 67, 96, 80, 85, 69, 88, 88, 77, 75, 62, 52, 72, 61, 89, 75]\n",
    "math_2 = [80, 80, 80, 80, 69, 43, 65, 81, 71, 96, 84, 80, 72, 93, 74, 90, 62, 65, 83, 74, 86, 81, 72, 85, 74, 81, 70, 78, 92, 81, 83, 83, 84, 92, 75, 81, 67, 54, 83, 93, 78, 54]\n",
    "algebra = [80, 70, 69, 62, 49, 51, 71, 74, 83, 77, 70, 73, 90, 60, 61, 61, 66, 84, 62, 72, 65, 61, 67, 61, 76, 95, 62, 70, 65, 78, 83, 72, 64, 64, 60, 75, 0, 88, 72, 71]\n"
   ]
  },
  {
   "cell_type": "code",
   "execution_count": null,
   "metadata": {},
   "outputs": [],
   "source": [
    "math_1_perc = get_per(math_1)\n",
    "print(math_1_perc)\n",
    "math_2_perc = get_per(math_2)\n",
    "print(math_2_perc)\n",
    "algebra_perc = get_per(algebra)\n",
    "print(algebra_perc)\n"
   ]
  },
  {
   "cell_type": "code",
   "execution_count": null,
   "metadata": {},
   "outputs": [],
   "source": [
    "\n"
   ]
  },
  {
   "cell_type": "code",
   "execution_count": 69,
   "metadata": {},
   "outputs": [
    {
     "name": "stdout",
     "output_type": "stream",
     "text": [
      "73.76190476190476\n",
      "77.35714285714286\n",
      "68.35\n"
     ]
    }
   ],
   "source": [
    "math_1_mean = np.mean(math_1)\n",
    "math_2_mean = np.mean(math_2)\n",
    "algebra_mean = np.mean(algebra)\n",
    "print(math_1_mean)\n",
    "print(math_2_mean)\n",
    "print(algebra_mean)"
   ]
  },
  {
   "cell_type": "code",
   "execution_count": 76,
   "metadata": {},
   "outputs": [],
   "source": [
    "eng_4 = [515,525,446,593,441,521,477,530,518,436,455,446,599,567,520,393,540,425,456,576,519,410,0,541,479,479,503,585,369,559,349,527,477,519,430,418,443,514,494,437,468,430,0]\n",
    "eng_6 = [357,421,0,547,0,452,417,485,0,371,0,0,440,496,407,0,471,0,0,491,0,0,0,409,0,0,427,482,0,457,0,422,405,0,418,0,0,0,380,355,390,0,0]\n"
   ]
  },
  {
   "cell_type": "code",
   "execution_count": 78,
   "metadata": {},
   "outputs": [
    {
     "name": "stdout",
     "output_type": "stream",
     "text": [
      "0.8372093023255814\n",
      "0.23255813953488372\n"
     ]
    }
   ],
   "source": [
    "eng_4_perc = get_per(eng_4, thre=425)\n",
    "print(eng_4_perc)\n",
    "eng_6_perc = get_per(eng_6, thre=425)\n",
    "print(eng_6_perc)\n"
   ]
  },
  {
   "cell_type": "code",
   "execution_count": null,
   "metadata": {},
   "outputs": [],
   "source": [
    "\n",
    "\n"
   ]
  },
  {
   "cell_type": "code",
   "execution_count": 75,
   "metadata": {},
   "outputs": [
    {
     "name": "stdout",
     "output_type": "stream",
     "text": [
      "0.30952380952380953\n",
      "0.5714285714285714\n",
      "0.175\n"
     ]
    }
   ],
   "source": [
    "\n"
   ]
  },
  {
   "cell_type": "code",
   "execution_count": 71,
   "metadata": {},
   "outputs": [
    {
     "data": {
      "image/png": "[encoded data removed]",
      "text/plain": [
       "<Figure size 640x480 with 1 Axes>"
      ]
     },
     "metadata": {},
     "output_type": "display_data"
    }
   ],
   "source": [
    "# Create a pieplot\n",
    "plt.pie([algebra_perc, 1-algebra_perc], colors=['violet', '#4169E1'])\n",
    "# add a circle at the center to transform it in a donut chart\n",
    "my_circle=plt.Circle( (0,0), 0.5, color='white')\n",
    "p=plt.gcf()\n",
    "p.gca().add_artist(my_circle)\n",
    "plt.show()\n",
    "\n"
   ]
  },
  {
   "cell_type": "code",
   "execution_count": null,
   "metadata": {},
   "outputs": [],
   "source": []
  },
  {
   "cell_type": "code",
   "execution_count": null,
   "metadata": {},
   "outputs": [],
   "source": []
  }
 ],
 "metadata": {
  "kernelspec": {
   "display_name": "venv-altimetry",
   "language": "python",
   "name": "python3"
  },
  "language_info": {
   "codemirror_mode": {
    "name": "ipython",
    "version": 3
   },
   "file_extension": ".py",
   "mimetype": "text/x-python",
   "name": "python",
   "nbconvert_exporter": "python",
   "pygments_lexer": "ipython3",
   "version": "3.10.13"
  }
 },
 "nbformat": 4,
 "nbformat_minor": 2
}
